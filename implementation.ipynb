{
 "cells": [
  {
   "cell_type": "markdown",
   "id": "be2fa184",
   "metadata": {},
   "source": [
    "DBSCAN stands for Density-Based Spatial Clustering of Applications with Noise. It is a popular clustering algorithm that groups together points that are closely packed (i.e., points with many nearby neighbors) while marking points that lie alone in low-density regions as noise or outliers.\n",
    "\n",
    "**Key Concepts in DBSCAN**\n",
    "DBSCAN uses the concept of density to discover clusters of arbitrary shape and identify noise. The algorithm relies on the following parameters and definitions:\n",
    "\n",
    "Epsilon (ε): A distance threshold that defines the radius around a point to consider its neighborhood.\n",
    "\n",
    "Minimum Points (MinPts): The minimum number of points required within the ε-radius neighborhood for a point to be considered dense.\n",
    "\n",
    "**Types of Points in DBSCAN**\n",
    "Core Point:\n",
    "A point that has at least MinPts neighbors within the ε-radius. Core points lie in the interior of a cluster.\n",
    "\n",
    "Border Point:\n",
    "A point that has fewer than MinPts neighbors within ε but lies within the ε-radius of a core point. Border points are on the edge of a cluster.\n",
    "\n",
    "Noise Point (Outlier):\n",
    "A point that is neither a core point nor a border point. It lies in low-density regions and is considered noise or an outlier.\n",
    "\n",
    "Objectives of DBSCAN\n",
    "Find Dense Regions: Identify clusters as areas of high point density separated by regions of low density.\n",
    "\n",
    "Detect Noise/Outliers: Recognize and label points that do not belong to any cluster as noise.\n",
    "\n",
    "**Advantages of DBSCAN**\n",
    "Can find clusters of arbitrary shape (not restricted to spherical clusters like k-means).\n",
    "\n",
    "Automatically detects noise/outliers.\n",
    "\n",
    "Does not require specifying the number of clusters in advance.\n",
    "\n",
    "**Limitations**\n",
    "Performance depends heavily on the choice of ε and MinPts.\n",
    "\n",
    "Struggles with datasets containing clusters of varying densities."
   ]
  },
  {
   "cell_type": "code",
   "execution_count": null,
   "id": "e40c419a",
   "metadata": {
    "vscode": {
     "languageId": "plaintext"
    }
   },
   "outputs": [],
   "source": []
  },
  {
   "cell_type": "code",
   "execution_count": null,
   "id": "a7ebf394",
   "metadata": {
    "vscode": {
     "languageId": "plaintext"
    }
   },
   "outputs": [],
   "source": []
  },
  {
   "cell_type": "code",
   "execution_count": null,
   "id": "0d823e1c",
   "metadata": {
    "vscode": {
     "languageId": "plaintext"
    }
   },
   "outputs": [],
   "source": []
  },
  {
   "cell_type": "code",
   "execution_count": null,
   "id": "a1d17fd1",
   "metadata": {
    "vscode": {
     "languageId": "plaintext"
    }
   },
   "outputs": [],
   "source": []
  }
 ],
 "metadata": {
  "language_info": {
   "name": "python"
  }
 },
 "nbformat": 4,
 "nbformat_minor": 5
}
